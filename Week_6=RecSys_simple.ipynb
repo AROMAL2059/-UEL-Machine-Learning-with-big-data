{
  "nbformat": 4,
  "nbformat_minor": 0,
  "metadata": {
    "colab": {
      "provenance": [],
      "include_colab_link": true
    },
    "kernelspec": {
      "name": "python3",
      "display_name": "Python 3"
    }
  },
  "cells": [
    {
      "cell_type": "markdown",
      "metadata": {
        "id": "view-in-github",
        "colab_type": "text"
      },
      "source": [
        "<a href=\"https://colab.research.google.com/github/AROMAL2059/-UEL-Machine-Learning-with-big-data/blob/main/Week_6%3DRecSys_simple.ipynb\" target=\"_parent\"><img src=\"https://colab.research.google.com/assets/colab-badge.svg\" alt=\"Open In Colab\"/></a>"
      ]
    },
    {
      "cell_type": "markdown",
      "source": [],
      "metadata": {
        "id": "pBTrEIQUSS3u"
      }
    },
    {
      "cell_type": "code",
      "metadata": {
        "colab": {
          "base_uri": "https://localhost:8080/"
        },
        "id": "jX_wzRmxcnDm",
        "outputId": "41c30966-c8a7-47d0-c6e0-1ddbf98a789a"
      },
      "source": [
        "#################################################################################\n",
        "# In this program, we shall be developing a movie Rec System\n",
        "#################################################################################\n",
        "\n",
        "\n",
        "!pip install pyspark\n"
      ],
      "execution_count": 14,
      "outputs": [
        {
          "output_type": "stream",
          "name": "stdout",
          "text": [
            "Requirement already satisfied: pyspark in /usr/local/lib/python3.10/dist-packages (3.5.1)\n",
            "Requirement already satisfied: py4j==0.10.9.7 in /usr/local/lib/python3.10/dist-packages (from pyspark) (0.10.9.7)\n"
          ]
        }
      ]
    },
    {
      "cell_type": "code",
      "metadata": {
        "id": "n2STHHRHOE9K"
      },
      "source": [],
      "execution_count": 14,
      "outputs": []
    },
    {
      "cell_type": "code",
      "metadata": {
        "id": "gDjiITKMc9OO"
      },
      "source": [
        "# Import necessary libraries\n",
        "import os\n",
        "from pyspark.sql import SparkSession\n",
        "\n",
        "# Create a Spark session\n",
        "spark = SparkSession.builder \\\n",
        "    .appName(\"Rec System\") \\\n",
        "    .config(\"spark.some.config.option\", \"some-value\") \\\n",
        "    .getOrCreate()\n"
      ],
      "execution_count": 45,
      "outputs": []
    },
    {
      "cell_type": "code",
      "metadata": {
        "id": "QqzSm2XZdHrA"
      },
      "source": [
        "# Read movies data from a CSV file into a PySpark DataFrame\n",
        "movies = spark.read.csv(\"/content/movies.csv\", inferSchema=True, header=True)\n",
        "\n",
        "# Read ratings data from a CSV file into a PySpark DataFrame\n",
        "ratings = spark.read.csv(\"/content/ratings.csv\", inferSchema=True, header=True)\n"
      ],
      "execution_count": 46,
      "outputs": []
    },
    {
      "cell_type": "code",
      "metadata": {
        "colab": {
          "base_uri": "https://localhost:8080/"
        },
        "id": "sLTFPTgKdmLF",
        "outputId": "55fea1a6-fede-48c0-beee-06e79f51fa47"
      },
      "source": [
        "# Show the first few rows of the 'ratings' DataFrame\n",
        "ratings.show()\n",
        "\n",
        "# Show the first few rows of the 'movies' DataFrame\n",
        "movies.show()\n",
        "\n"
      ],
      "execution_count": 48,
      "outputs": [
        {
          "output_type": "stream",
          "name": "stdout",
          "text": [
            "+------+-------+------+---------+\n",
            "|userId|movieId|rating|timestamp|\n",
            "+------+-------+------+---------+\n",
            "|     1|      1|   4.0|964982703|\n",
            "|     1|      3|   4.0|964981247|\n",
            "|     1|      6|   4.0|964982224|\n",
            "|     1|     47|   5.0|964983815|\n",
            "|     1|     50|   5.0|964982931|\n",
            "|     1|     70|   3.0|964982400|\n",
            "|     1|    101|   5.0|964980868|\n",
            "|     1|    110|   4.0|964982176|\n",
            "|     1|    151|   5.0|964984041|\n",
            "|     1|    157|   5.0|964984100|\n",
            "|     1|    163|   5.0|964983650|\n",
            "|     1|    216|   5.0|964981208|\n",
            "|     1|    223|   3.0|964980985|\n",
            "|     1|    231|   5.0|964981179|\n",
            "|     1|    235|   4.0|964980908|\n",
            "|     1|    260|   5.0|964981680|\n",
            "|     1|    296|   3.0|964982967|\n",
            "|     1|    316|   3.0|964982310|\n",
            "|     1|    333|   5.0|964981179|\n",
            "|     1|    349|   4.0|964982563|\n",
            "+------+-------+------+---------+\n",
            "only showing top 20 rows\n",
            "\n",
            "+-------+--------------------+--------------------+\n",
            "|movieId|               title|              genres|\n",
            "+-------+--------------------+--------------------+\n",
            "|      1|    Toy Story (1995)|Adventure|Animati...|\n",
            "|      2|      Jumanji (1995)|Adventure|Childre...|\n",
            "|      3|Grumpier Old Men ...|      Comedy|Romance|\n",
            "|      4|Waiting to Exhale...|Comedy|Drama|Romance|\n",
            "|      5|Father of the Bri...|              Comedy|\n",
            "|      6|         Heat (1995)|Action|Crime|Thri...|\n",
            "|      7|      Sabrina (1995)|      Comedy|Romance|\n",
            "|      8| Tom and Huck (1995)|  Adventure|Children|\n",
            "|      9| Sudden Death (1995)|              Action|\n",
            "|     10|    GoldenEye (1995)|Action|Adventure|...|\n",
            "|     11|American Presiden...|Comedy|Drama|Romance|\n",
            "|     12|Dracula: Dead and...|       Comedy|Horror|\n",
            "|     13|        Balto (1995)|Adventure|Animati...|\n",
            "|     14|        Nixon (1995)|               Drama|\n",
            "|     15|Cutthroat Island ...|Action|Adventure|...|\n",
            "|     16|       Casino (1995)|         Crime|Drama|\n",
            "|     17|Sense and Sensibi...|       Drama|Romance|\n",
            "|     18|   Four Rooms (1995)|              Comedy|\n",
            "|     19|Ace Ventura: When...|              Comedy|\n",
            "|     20|  Money Train (1995)|Action|Comedy|Cri...|\n",
            "+-------+--------------------+--------------------+\n",
            "only showing top 20 rows\n",
            "\n"
          ]
        }
      ]
    },
    {
      "cell_type": "code",
      "metadata": {
        "colab": {
          "base_uri": "https://localhost:8080/"
        },
        "id": "ULBZg1ThdqnB",
        "outputId": "c48b3630-e304-41d9-c7a0-2ede3d24728b"
      },
      "source": [
        "# Printing the schema of the 'ratings' DataFrame to understand its structure\n",
        "ratings.printSchema()\n",
        "\n",
        "# Printing the schema of the 'movies' DataFrame to understand its structure\n",
        "movies.printSchema()"
      ],
      "execution_count": 49,
      "outputs": [
        {
          "output_type": "stream",
          "name": "stdout",
          "text": [
            "root\n",
            " |-- userId: integer (nullable = true)\n",
            " |-- movieId: integer (nullable = true)\n",
            " |-- rating: double (nullable = true)\n",
            " |-- timestamp: integer (nullable = true)\n",
            "\n",
            "root\n",
            " |-- movieId: integer (nullable = true)\n",
            " |-- title: string (nullable = true)\n",
            " |-- genres: string (nullable = true)\n",
            "\n"
          ]
        }
      ]
    },
    {
      "cell_type": "code",
      "metadata": {
        "colab": {
          "base_uri": "https://localhost:8080/"
        },
        "id": "SAIK6_mkdxjE",
        "outputId": "841a5c7a-0c66-4829-9bef-c5626794e179"
      },
      "source": [
        "from pyspark.sql import functions as F\n",
        "#The first code snippet not only drops the 'timestamp'\n",
        "# column but also performs additional operations such as casting certain columns\n",
        "# to specific data types (userId to integer, movieId to integer, and rating to float) using the withColumn method.\n",
        "ratings = ratings.\\\n",
        "    withColumn('userId', F.col('userId').cast('integer')).\\\n",
        "    withColumn('movieId', F.col('movieId').cast('integer')).\\\n",
        "    withColumn('rating', F.col('rating').cast('float')).\\\n",
        "    drop('timestamp')\n",
        "ratings.show()"
      ],
      "execution_count": 22,
      "outputs": [
        {
          "output_type": "stream",
          "name": "stdout",
          "text": [
            "+------+-------+------+\n",
            "|userId|movieId|rating|\n",
            "+------+-------+------+\n",
            "|     1|      1|   4.0|\n",
            "|     1|      3|   4.0|\n",
            "|     1|      6|   4.0|\n",
            "|     1|     47|   5.0|\n",
            "|     1|     50|   5.0|\n",
            "|     1|     70|   3.0|\n",
            "|     1|    101|   5.0|\n",
            "|     1|    110|   4.0|\n",
            "|     1|    151|   5.0|\n",
            "|     1|    157|   5.0|\n",
            "|     1|    163|   5.0|\n",
            "|     1|    216|   5.0|\n",
            "|     1|    223|   3.0|\n",
            "|     1|    231|   5.0|\n",
            "|     1|    235|   4.0|\n",
            "|     1|    260|   5.0|\n",
            "|     1|    296|   3.0|\n",
            "|     1|    316|   3.0|\n",
            "|     1|    333|   5.0|\n",
            "|     1|    349|   4.0|\n",
            "+------+-------+------+\n",
            "only showing top 20 rows\n",
            "\n"
          ]
        }
      ]
    },
    {
      "cell_type": "code",
      "metadata": {
        "colab": {
          "base_uri": "https://localhost:8080/"
        },
        "id": "hplKa6VegWkP",
        "outputId": "6125ebd9-b626-410e-d602-c31d2f4504d5"
      },
      "source": [
        "# Sparsity shows how sparse is the matrix, e.g. 99% sparsity shows that, 99% of the entries in the matrix are missing.\n",
        "# Count the total number of ratings in the dataset\n",
        "numerator = ratings.select(\"rating\").count()\n",
        "\n",
        "# Count the number of distinct userIds and distinct movieIds\n",
        "num_users = ratings.select(\"userId\").distinct().count()\n",
        "num_movies = ratings.select(\"movieId\").distinct().count()\n",
        "\n",
        "# Set the denominator equal to the number of users multiplied by the number of movies\n",
        "denominator = num_users * num_movies\n",
        "\n",
        "# Divide the numerator by the denominator\n",
        "sparsity = (1.0 - (numerator *1.0)/denominator)*100\n",
        "print(\"The ratings dataframe is \", \"%.2f\" % sparsity + \"% empty.\")"
      ],
      "execution_count": 23,
      "outputs": [
        {
          "output_type": "stream",
          "name": "stdout",
          "text": [
            "The ratings dataframe is  98.30% empty.\n"
          ]
        }
      ]
    },
    {
      "cell_type": "code",
      "metadata": {
        "colab": {
          "base_uri": "https://localhost:8080/"
        },
        "id": "spvf2NX2gmPh",
        "outputId": "3db017d0-2fce-4087-9531-2bfcfc4e4330"
      },
      "source": [
        "# Group data by userId, count ratings\n",
        "userId_ratings = ratings.groupBy(\"userId\").count().orderBy('count', ascending=False)\n",
        "userId_ratings.show()"
      ],
      "execution_count": 24,
      "outputs": [
        {
          "output_type": "stream",
          "name": "stdout",
          "text": [
            "+------+-----+\n",
            "|userId|count|\n",
            "+------+-----+\n",
            "|   414| 2698|\n",
            "|   599| 2478|\n",
            "|   474| 2108|\n",
            "|   448| 1864|\n",
            "|   274| 1346|\n",
            "|   610| 1302|\n",
            "|    68| 1260|\n",
            "|   380| 1218|\n",
            "|   606| 1115|\n",
            "|   288| 1055|\n",
            "|   249| 1046|\n",
            "|   387| 1027|\n",
            "|   182|  977|\n",
            "|   307|  975|\n",
            "|   603|  943|\n",
            "|   298|  939|\n",
            "|   177|  904|\n",
            "|   318|  879|\n",
            "|   232|  862|\n",
            "|   480|  836|\n",
            "+------+-----+\n",
            "only showing top 20 rows\n",
            "\n"
          ]
        }
      ]
    },
    {
      "cell_type": "code",
      "metadata": {
        "colab": {
          "base_uri": "https://localhost:8080/"
        },
        "id": "D1I-iWfxgwFz",
        "outputId": "f63e0e79-1ede-46e4-e670-02e76a8fce0b"
      },
      "source": [
        "\n",
        "# Group data by movieId, count ratings\n",
        "movieId_ratings = ratings.groupBy(\"movieId\").count().orderBy('count', ascending=False)\n",
        "movieId_ratings.show()"
      ],
      "execution_count": 25,
      "outputs": [
        {
          "output_type": "stream",
          "name": "stdout",
          "text": [
            "+-------+-----+\n",
            "|movieId|count|\n",
            "+-------+-----+\n",
            "|    356|  329|\n",
            "|    318|  317|\n",
            "|    296|  307|\n",
            "|    593|  279|\n",
            "|   2571|  278|\n",
            "|    260|  251|\n",
            "|    480|  238|\n",
            "|    110|  237|\n",
            "|    589|  224|\n",
            "|    527|  220|\n",
            "|   2959|  218|\n",
            "|      1|  215|\n",
            "|   1196|  211|\n",
            "|     50|  204|\n",
            "|   2858|  204|\n",
            "|     47|  203|\n",
            "|    780|  202|\n",
            "|    150|  201|\n",
            "|   1198|  200|\n",
            "|   4993|  198|\n",
            "+-------+-----+\n",
            "only showing top 20 rows\n",
            "\n"
          ]
        }
      ]
    },
    {
      "cell_type": "code",
      "metadata": {
        "id": "r2HMZ7c1g8WZ"
      },
      "source": [
        "##################################\n",
        "# ALS MODEL --- Alternative Least Square Method"
      ],
      "execution_count": null,
      "outputs": []
    },
    {
      "cell_type": "code",
      "metadata": {
        "id": "gCyVwKoUg-SD"
      },
      "source": [
        "\n",
        "# Import the required functions\n",
        "from pyspark.ml.evaluation import RegressionEvaluator\n",
        "from pyspark.ml.recommendation import ALS\n",
        "from pyspark.ml.tuning import ParamGridBuilder, CrossValidator"
      ],
      "execution_count": 26,
      "outputs": []
    },
    {
      "cell_type": "code",
      "metadata": {
        "colab": {
          "base_uri": "https://localhost:8080/"
        },
        "id": "fRkNmwjFhB5G",
        "outputId": "cbc180ba-f028-433d-dc92-9f5a9f8fcd87"
      },
      "source": [
        "# Split the ratings dataframe into training and test data\n",
        "(train, test) = ratings.randomSplit([0.8, 0.2], seed=42)\n",
        "\n",
        "# Set the ALS hyperparameters\n",
        "als = ALS(\n",
        "    userCol=\"userId\",\n",
        "    itemCol=\"movieId\",\n",
        "    ratingCol=\"rating\",\n",
        "    rank =10,\n",
        "    maxIter =10,\n",
        "    regParam =.1,\n",
        "    coldStartStrategy=\"drop\",\n",
        "    nonnegative =True,\n",
        "    implicitPrefs = False\n",
        ")\n",
        "\n",
        "# Fit the model to the training_data\n",
        "als_model = als.fit(train)\n",
        "\n",
        "# Generate predictions on the test_data\n",
        "test_predictions = als_model.transform(test)\n",
        "test_predictions.show()"
      ],
      "execution_count": 27,
      "outputs": [
        {
          "output_type": "stream",
          "name": "stdout",
          "text": [
            "+------+-------+------+----------+\n",
            "|userId|movieId|rating|prediction|\n",
            "+------+-------+------+----------+\n",
            "|   148|   4896|   4.0| 3.6148007|\n",
            "|   148|   5618|   3.0| 3.5272582|\n",
            "|   148|   7153|   3.0| 3.3923879|\n",
            "|   148|  40629|   5.0| 3.3700583|\n",
            "|   148|  40815|   4.0|  3.649026|\n",
            "|   148|  60069|   4.5| 3.6771636|\n",
            "|   148|  68954|   4.0| 3.7244067|\n",
            "|   148|  69844|   4.0| 3.6883917|\n",
            "|   148|  79132|   1.5| 3.4684443|\n",
            "|   148|  79702|   4.0| 3.3601599|\n",
            "|   148|  81834|   4.0|  3.668439|\n",
            "|   148|  81847|   4.5| 3.2145953|\n",
            "|   148|  98243|   4.5| 3.5504165|\n",
            "|   148|  98491|   5.0| 3.7964327|\n",
            "|   148| 108932|   4.0| 3.5365646|\n",
            "|   463|   1088|   3.5| 3.6466417|\n",
            "|   463|   1221|   4.5| 4.0618305|\n",
            "|   463|   2028|   4.5| 4.1662807|\n",
            "|   463|   2167|   3.0| 3.5731964|\n",
            "|   463|   3448|   3.0| 3.7726212|\n",
            "+------+-------+------+----------+\n",
            "only showing top 20 rows\n",
            "\n"
          ]
        }
      ]
    },
    {
      "cell_type": "code",
      "metadata": {
        "id": "EjWax6vEhmRV",
        "colab": {
          "base_uri": "https://localhost:8080/"
        },
        "outputId": "b85158fb-2798-4e4c-aee5-1ba502863e28"
      },
      "source": [
        "# Import RegressionEvaluator\n",
        "from pyspark.ml.evaluation import RegressionEvaluator\n",
        "\n",
        "# Complete the evaluator code\n",
        "evaluator = RegressionEvaluator(metricName=\"rmse\", labelCol=\"userId\", predictionCol=\"rating\")\n",
        "\n",
        "# Extract the 3 parameters\n",
        "print(evaluator.getMetricName())\n",
        "print(evaluator.getLabelCol())\n",
        "print(evaluator.getPredictionCol())\n",
        "\n",
        "\n",
        "# Evaluate the \"test_predictions\" dataframe\n",
        "RMSE = evaluator.evaluate(test_predictions)\n",
        "\n",
        "# Print the RMSE\n",
        "print ('RMSE = ', RMSE)"
      ],
      "execution_count": 28,
      "outputs": [
        {
          "output_type": "stream",
          "name": "stdout",
          "text": [
            "rmse\n",
            "userId\n",
            "rating\n",
            "RMSE =  368.0588125025974\n"
          ]
        }
      ]
    },
    {
      "cell_type": "code",
      "metadata": {
        "id": "DNjeXn5DhnrT",
        "colab": {
          "base_uri": "https://localhost:8080/"
        },
        "outputId": "2c17dc9d-1f4a-44dd-ace7-7d8bed6ff175"
      },
      "source": [
        "# Generate n Recommendations for all users\n",
        "nrecommendations = als_model.recommendForAllUsers(10)\n",
        "nrecommendations.limit(10).show()"
      ],
      "execution_count": 29,
      "outputs": [
        {
          "output_type": "stream",
          "name": "stdout",
          "text": [
            "+------+--------------------+\n",
            "|userId|     recommendations|\n",
            "+------+--------------------+\n",
            "|     1|[{96004, 5.859417...|\n",
            "|     2|[{183897, 4.95190...|\n",
            "|     3|[{74754, 5.534515...|\n",
            "|     4|[{7579, 4.9566784...|\n",
            "|     5|[{25825, 5.038783...|\n",
            "|     6|[{171, 5.057845},...|\n",
            "|     7|[{1658, 4.946783}...|\n",
            "|     8|[{25771, 5.219259...|\n",
            "|     9|[{25771, 5.381905...|\n",
            "|    10|[{1172, 4.7881317...|\n",
            "+------+--------------------+\n",
            "\n"
          ]
        }
      ]
    },
    {
      "cell_type": "code",
      "metadata": {
        "id": "4VN93DPmhvkF",
        "colab": {
          "base_uri": "https://localhost:8080/"
        },
        "outputId": "8f90235b-199e-4985-85db-39edca84ee07"
      },
      "source": [
        "#Explaining the recommendations\n",
        "\n",
        "from pyspark.sql.functions import split, explode\n",
        "\n",
        "nrecommendations = nrecommendations\\\n",
        "    .withColumn(\"rec_exp\", explode(\"recommendations\"))\\\n",
        "    .select('userId', F.col(\"rec_exp.movieId\"), F.col(\"rec_exp.rating\"))\n",
        "\n",
        "nrecommendations.limit(10).show()"
      ],
      "execution_count": 30,
      "outputs": [
        {
          "output_type": "stream",
          "name": "stdout",
          "text": [
            "+------+-------+---------+\n",
            "|userId|movieId|   rating|\n",
            "+------+-------+---------+\n",
            "|     1|  96004|5.8594174|\n",
            "|     1|   3379|5.8594174|\n",
            "|     1| 104875|5.7598352|\n",
            "|     1|  33649| 5.717746|\n",
            "|     1|  93988|5.6721992|\n",
            "|     1|   8235| 5.642348|\n",
            "|     1|   6201| 5.642348|\n",
            "|     1|  25771| 5.619649|\n",
            "|     1| 171495| 5.599961|\n",
            "|     1| 177593|5.5618978|\n",
            "+------+-------+---------+\n",
            "\n"
          ]
        }
      ]
    },
    {
      "cell_type": "code",
      "metadata": {
        "id": "a5C50BXuh_g8",
        "colab": {
          "base_uri": "https://localhost:8080/"
        },
        "outputId": "ee0c968d-b3c6-423c-e778-b5757b261304"
      },
      "source": [
        "#Explaining the recommendations\n",
        "nrecommendations.join(movies, on='movieId').filter('userId = 100').show()\n"
      ],
      "execution_count": 31,
      "outputs": [
        {
          "output_type": "stream",
          "name": "stdout",
          "text": [
            "+-------+------+---------+--------------------+--------------------+\n",
            "|movieId|userId|   rating|               title|              genres|\n",
            "+-------+------+---------+--------------------+--------------------+\n",
            "|  93008|   100| 4.997987|Very Potter Seque...|      Comedy|Musical|\n",
            "|  77846|   100| 4.997987| 12 Angry Men (1997)|         Crime|Drama|\n",
            "|  25906|   100| 4.997987|Mr. Skeffington (...|       Drama|Romance|\n",
            "|  45503|   100|4.9651494|Peaceful Warrior ...|               Drama|\n",
            "|  74282|   100| 4.949336|Anne of Green Gab...|Children|Drama|Ro...|\n",
            "| 158872|   100| 4.948445|Sausage Party (2016)|    Animation|Comedy|\n",
            "| 104875|   100| 4.911713|History of Future...|Adventure|Comedy|...|\n",
            "|  93988|   100|  4.88517|North & South (2004)|       Drama|Romance|\n",
            "|  98154|   100|  4.87809|      Lincoln (2012)|           Drama|War|\n",
            "|  25771|   100|4.8726535|Andalusian Dog, A...|             Fantasy|\n",
            "+-------+------+---------+--------------------+--------------------+\n",
            "\n"
          ]
        }
      ]
    },
    {
      "cell_type": "code",
      "metadata": {
        "colab": {
          "base_uri": "https://localhost:8080/"
        },
        "id": "bPTsLjOHn0Xl",
        "outputId": "14e8a3e8-625a-4c5e-da3b-950a915ed11c"
      },
      "source": [
        "ratings.join(movies, on='movieId').filter('userId = 100').sort('rating', ascending=False).limit(10).show()\n"
      ],
      "execution_count": 32,
      "outputs": [
        {
          "output_type": "stream",
          "name": "stdout",
          "text": [
            "+-------+------+------+--------------------+--------------------+\n",
            "|movieId|userId|rating|               title|              genres|\n",
            "+-------+------+------+--------------------+--------------------+\n",
            "|   1101|   100|   5.0|      Top Gun (1986)|      Action|Romance|\n",
            "|   1958|   100|   5.0|Terms of Endearme...|        Comedy|Drama|\n",
            "|   2423|   100|   5.0|Christmas Vacatio...|              Comedy|\n",
            "|   4041|   100|   5.0|Officer and a Gen...|       Drama|Romance|\n",
            "|   5620|   100|   5.0|Sweet Home Alabam...|      Comedy|Romance|\n",
            "|    368|   100|   4.5|     Maverick (1994)|Adventure|Comedy|...|\n",
            "|    934|   100|   4.5|Father of the Bri...|              Comedy|\n",
            "|    539|   100|   4.5|Sleepless in Seat...|Comedy|Drama|Romance|\n",
            "|     16|   100|   4.5|       Casino (1995)|         Crime|Drama|\n",
            "|    553|   100|   4.5|    Tombstone (1993)|Action|Drama|Western|\n",
            "+-------+------+------+--------------------+--------------------+\n",
            "\n"
          ]
        }
      ]
    }
  ]
}